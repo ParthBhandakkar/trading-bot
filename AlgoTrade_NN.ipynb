{
 "cells": [
  {
   "cell_type": "code",
   "execution_count": null,
   "id": "b2c025ca",
   "metadata": {},
   "outputs": [],
   "source": [
    "# import talib\n",
    "\n",
    "# talib.get_function_groups()['Overlap Studies']\n",
    "\n",
    "# ?talib.MAVP\n",
    "\n",
    "# dir(talib)\n",
    "\n",
    "# print(talib.get_functions())\n",
    "# print(len(talib.get_functions()))\n",
    "\n",
    "\n",
    "# list(talib.get_function_groups().keys())\n",
    "\n",
    "# pd.set_option('display.max_rows', None)\n",
    "# pd.set_option('display.max_columns', None)\n",
    "\n"
   ]
  },
  {
   "cell_type": "code",
   "execution_count": null,
   "id": "76a19766",
   "metadata": {},
   "outputs": [],
   "source": [
    "import talib\n",
    "import pandas as pd\n",
    "from pandas import Series, DataFrame\n",
    "\n",
    "df = pd.read_csv('C:\\\\Users\\DELL\\Desktop\\CryptoData\\SOL110820_170522_1h.csv', index_col=0)\n",
    "print(df.shape) #total rows available\n",
    "df = df.iloc[-1500:,:]\n",
    "print(df.shape) #rows we are using\n",
    "# print(df)\n",
    "\n",
    "from talib import abstract #change columnn names to lower-case\n",
    "df.rename(columns={'Open':'open', 'High':'high','Low':'low','Close':'close','Volume':'volume'},inplace=True)\n",
    "\n",
    "f = abstract"
   ]
  },
  {
   "cell_type": "code",
   "execution_count": null,
   "id": "f670a654",
   "metadata": {},
   "outputs": [],
   "source": [
    "\n",
    "#candlestick patterns -+200:Bullish with confirm ; +100:Bullish ; 0:None ; -100:Sell ; -200:Bearish with confirm\n",
    "dir_candle = [candle for candle in dir(f) if candle.startswith('CDL')]\n",
    "\n",
    "#cycle indicators\n",
    "dir_cycle = list(talib.get_function_groups()['Cycle Indicators'])\n",
    "\n",
    "#math operators\n",
    "dir_moperators = list(talib.get_function_groups()['Math Operators'])\n",
    "\n",
    "#math transform\n",
    "dir_mtransform = list(talib.get_function_groups()['Math Transform'])\n",
    "\n",
    "#momentum indicators\n",
    "dir_momentum = list(talib.get_function_groups()['Momentum Indicators'])\n",
    "\n",
    "#overlap studies\n",
    "dir_overlap = list(talib.get_function_groups()['Overlap Studies'])\n",
    "dir_overlap.remove('MAVP') #no use known as manual parameter 'periods' required\n",
    "\n",
    "#price transform\n",
    "dir_ptransform = list(talib.get_function_groups()['Price Transform'])\n",
    "\n",
    "#statistic functions\n",
    "dir_statistics = list(talib.get_function_groups()['Statistic Functions'])\n",
    "\n",
    "\n",
    "#volatility indicators\n",
    "dir_volatility = list(talib.get_function_groups()['Volatility Indicators'])\n",
    "\n",
    "#volume indicators\n",
    "dir_volume = list(talib.get_function_groups()['Volume Indicators'])\n",
    "\n",
    "\n",
    "#everything\n",
    "all_dir = list(talib.get_functions())\n",
    "\n",
    "# whichever to be added to dataframe\n",
    "my_indi =  dir_cycle + dir_moperators + dir_mtransform + dir_momentum + dir_overlap + dir_ptransform \\\n",
    "+ dir_statistics + dir_volatility + dir_volume # dir_candle +\n",
    "\n",
    "#adding all patterns and indicators to the dataframe\n",
    "for indicator in my_indi:\n",
    "    x =str(indicator)\n",
    "    y = getattr(f,x)(df)\n",
    "\n",
    "    if type(y) == Series:\n",
    "        df[indicator] = y.tolist()\n",
    "    \n",
    "    elif type(y) == DataFrame:\n",
    "        for in_indi in y:\n",
    "            df[in_indi] = y[in_indi]\n",
    "\n",
    "# df"
   ]
  },
  {
   "cell_type": "code",
   "execution_count": null,
   "id": "14ff920e",
   "metadata": {},
   "outputs": [],
   "source": [
    "# copy of dataframe with everything\n",
    "# df_full = df.copy()\n",
    "# df_full.shape\n",
    "# df_full\n",
    "df"
   ]
  },
  {
   "cell_type": "code",
   "execution_count": null,
   "id": "11c06aef",
   "metadata": {},
   "outputs": [],
   "source": [
    "#creating target column with percentage change in close\n",
    "df['close_delta'] = df['close'].pct_change().shift(periods=-1)\n",
    "\n",
    "#dropping opentime and closetime as of no use for now\n",
    "df = df.drop(['open_time', 'close_time', 'qav', 'num_trades', 'taker_base_vol', 'taker_quote_vol', 'ignore'], axis=1)\n",
    "\n",
    "# dropping columns with all values as NaN\n",
    "df.dropna(axis=1, how='all', inplace=True)\n",
    "# df.drop(['Unnamed: 0'], axis=1, inplace=True)\n",
    "\n",
    "#dropping rows with any values as NaN\n",
    "df.dropna(inplace=True)\n",
    "\n",
    "print(df.shape)\n",
    "df"
   ]
  },
  {
   "cell_type": "code",
   "execution_count": null,
   "id": "10eb4940",
   "metadata": {},
   "outputs": [],
   "source": [
    "# # just for checking\n",
    "# df_half = df.copy()\n",
    "# df_half\n",
    "\n",
    "# col1 = list(df_full.columns)\n",
    "\n",
    "# #for checking which columns contain only NaN values\n",
    "# for aam in col1:\n",
    "#     if aam not in df_half.columns:\n",
    "#         print(aam)\n",
    "#         print(df_full.columns.get_loc(aam))"
   ]
  },
  {
   "cell_type": "code",
   "execution_count": null,
   "id": "08ac40d8",
   "metadata": {},
   "outputs": [],
   "source": [
    "df['ADirection'] = [1 if i > 0.005 else i for i in df['close_delta']]\n",
    "df['BDirection'] = [0.5 if 0.005 > i > 0  else i for i in df['ADirection']]\n",
    "df['CDirection'] = [-0.5 if -0.005 < i < 0  else i for i in df['BDirection']]\n",
    "df['Direction'] = [-1 if -0.005 > i else i for i in df['CDirection']]\n",
    "\n",
    "df = df.drop(['ADirection', 'BDirection', 'CDirection', 'close_delta'], axis=1)\n",
    "\n",
    "\n",
    "df"
   ]
  },
  {
   "cell_type": "code",
   "execution_count": null,
   "id": "4809b408",
   "metadata": {
    "scrolled": true
   },
   "outputs": [],
   "source": [
    "df.tail()"
   ]
  },
  {
   "cell_type": "code",
   "execution_count": null,
   "id": "d2c2a3ab",
   "metadata": {},
   "outputs": [],
   "source": [
    "import tensorflow as tf \n",
    "print(tf.__version__)"
   ]
  },
  {
   "cell_type": "code",
   "execution_count": null,
   "id": "ca53843f",
   "metadata": {},
   "outputs": [],
   "source": [
    "\n",
    "# independant variables\n",
    "X = df.drop(['Direction'], axis=1)\n",
    "\n",
    "# the dependent variable\n",
    "Y = df[['Direction']]"
   ]
  },
  {
   "cell_type": "code",
   "execution_count": null,
   "id": "4eb79b0f",
   "metadata": {},
   "outputs": [],
   "source": [
    "\n",
    "print(X.shape, Y.shape)"
   ]
  },
  {
   "cell_type": "code",
   "execution_count": null,
   "id": "da9a6fba",
   "metadata": {},
   "outputs": [],
   "source": [
    "# Split X and y into training and test set in 70:30 ratio\n",
    "\n",
    "from sklearn.model_selection import train_test_split\n",
    "\n",
    "X_train, X_test, y_train, y_test = train_test_split(X, Y, test_size=0.30, random_state=1, shuffle=True)\n",
    "\n",
    "print(X_train.shape, Y_train.shape)\n",
    "print(X_test.shape, Y_test.shape)"
   ]
  },
  {
   "cell_type": "code",
   "execution_count": null,
   "id": "8ad748ad",
   "metadata": {},
   "outputs": [],
   "source": [
    "from scipy.stats import zscore\n",
    "X =X.apply(zscore)\n",
    "X.head()"
   ]
  },
  {
   "cell_type": "code",
   "execution_count": null,
   "id": "81654126",
   "metadata": {},
   "outputs": [],
   "source": [
    "X_train[0:1]  # let's have a look at one row\n",
    "\n",
    "Y_train[:-10]  # let's have a look at the first 10 training labels"
   ]
  },
  {
   "cell_type": "code",
   "execution_count": null,
   "id": "8a6d195b",
   "metadata": {},
   "outputs": [],
   "source": [
    "\n",
    "X_train = np.array(X_train)\n",
    "print(X_train.shape)\n",
    "X_train = X_train[:, tf.newaxis, :]\n",
    "print(X_train.shape)\n",
    "\n",
    "X_test = np.array(X_test)\n",
    "print(X_test.shape)\n",
    "X_test = X_test[:, tf.newaxis, :]\n",
    "print(X_test.shape)"
   ]
  },
  {
   "cell_type": "code",
   "execution_count": null,
   "id": "ac9bd5fb",
   "metadata": {},
   "outputs": [],
   "source": [
    "model = keras.Sequential([\n",
    "    keras.layers.Input(shape=(1, 5)),  # input layer (1)\n",
    "    keras.layers.Dense(4, activation='elu'),  # hidden layer (2)\n",
    "    keras.layers.Dense(4, activation='softmax') # output layer (3)\n",
    "])"
   ]
  },
  {
   "cell_type": "code",
   "execution_count": null,
   "id": "25a95c3f",
   "metadata": {},
   "outputs": [],
   "source": [
    "model.compile(optimizer='adam',\n",
    "              loss=tf.keras.losses.SparseCategoricalCrossentropy(from_logits=True),\n",
    "              metrics=['accuracy'])"
   ]
  },
  {
   "cell_type": "code",
   "execution_count": null,
   "id": "f7ef1740",
   "metadata": {},
   "outputs": [],
   "source": [
    "model.fit(X_train, Y_train, batch_size=10, epochs=10 )  # we pass the data, labels and epochs and watch the magic!"
   ]
  },
  {
   "cell_type": "code",
   "execution_count": null,
   "id": "7d6ec7c3",
   "metadata": {},
   "outputs": [],
   "source": [
    "test_loss, test_acc = model.evaluate(X_test,  Y_test, verbose=1) \n",
    "\n",
    "print('Test accuracy:', test_acc)"
   ]
  },
  {
   "cell_type": "code",
   "execution_count": null,
   "id": "36663ecd",
   "metadata": {},
   "outputs": [],
   "source": [
    "predictions = model.predict(X_test)"
   ]
  },
  {
   "cell_type": "code",
   "execution_count": null,
   "id": "c4451969",
   "metadata": {},
   "outputs": [],
   "source": [
    "predictions[0]"
   ]
  },
  {
   "cell_type": "code",
   "execution_count": null,
   "id": "4f7226b6",
   "metadata": {},
   "outputs": [],
   "source": [
    "np.argmax(predictions[0])"
   ]
  },
  {
   "cell_type": "code",
   "execution_count": null,
   "id": "a7ac13fd",
   "metadata": {},
   "outputs": [],
   "source": [
    "Y_test[0]\n"
   ]
  },
  {
   "cell_type": "code",
   "execution_count": 8,
   "id": "77e55171",
   "metadata": {},
   "outputs": [],
   "source": [
    "import tensorflow as tf"
   ]
  },
  {
   "cell_type": "code",
   "execution_count": 9,
   "id": "63745bf9",
   "metadata": {},
   "outputs": [
    {
     "name": "stdout",
     "output_type": "stream",
     "text": [
      "[PhysicalDevice(name='/physical_device:CPU:0', device_type='CPU')]\n"
     ]
    }
   ],
   "source": [
    "print(tf.config.list_physical_devices())"
   ]
  },
  {
   "cell_type": "code",
   "execution_count": null,
   "id": "aecf5241",
   "metadata": {},
   "outputs": [],
   "source": []
  }
 ],
 "metadata": {
  "kernelspec": {
   "display_name": "Python 3 (ipykernel)",
   "language": "python",
   "name": "python3"
  },
  "language_info": {
   "codemirror_mode": {
    "name": "ipython",
    "version": 3
   },
   "file_extension": ".py",
   "mimetype": "text/x-python",
   "name": "python",
   "nbconvert_exporter": "python",
   "pygments_lexer": "ipython3",
   "version": "3.9.7"
  }
 },
 "nbformat": 4,
 "nbformat_minor": 5
}
